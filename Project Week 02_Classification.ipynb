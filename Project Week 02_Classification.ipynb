{
 "cells": [
  {
   "cell_type": "markdown",
   "id": "f1eb5d65",
   "metadata": {},
   "source": [
    "# SPICED Academy ///  Project Week 02 /// Classification"
   ]
  },
  {
   "cell_type": "markdown",
   "id": "e6eda061",
   "metadata": {},
   "source": [
    "***"
   ]
  },
  {
   "cell_type": "markdown",
   "id": "325fa852",
   "metadata": {},
   "source": [
    "## I. Define goal"
   ]
  },
  {
   "cell_type": "markdown",
   "id": "ce71c584",
   "metadata": {},
   "source": [
    "Create a machine learning model using logistic regression that predicts if a person survived the Titanic accident (and just playing around with machine learning in general)."
   ]
  },
  {
   "cell_type": "markdown",
   "id": "59b0b6b9",
   "metadata": {},
   "source": [
    "***"
   ]
  },
  {
   "cell_type": "markdown",
   "id": "cc5b9c83",
   "metadata": {},
   "source": [
    "## II. Import libraries and get data"
   ]
  },
  {
   "cell_type": "code",
   "execution_count": 107,
   "id": "bb522fbe",
   "metadata": {},
   "outputs": [],
   "source": [
    "#data processing\n",
    "import pandas as pd\n",
    "\n",
    "#data visualization\n",
    "import seaborn as sns\n",
    "import matplotlib as mpl\n",
    "import matplotlib.pyplot as plt\n",
    "\n",
    "#feature engineering\n",
    "from sklearn.model_selection import train_test_split\n",
    "from sklearn.impute import KNNImputer\n",
    "from sklearn.preprocessing import OneHotEncoder\n",
    "from sklearn.preprocessing import MinMaxScaler\n",
    "from sklearn.compose import ColumnTransformer\n",
    "\n",
    "#machine learning models\n",
    "from sklearn import linear_model\n",
    "from sklearn.linear_model import LogisticRegression\n",
    "from sklearn.ensemble import RandomForestClassifier\n",
    "from sklearn.linear_model import Perceptron\n",
    "from sklearn.linear_model import SGDClassifier\n",
    "from sklearn.tree import DecisionTreeClassifier\n",
    "from sklearn.neighbors import KNeighborsClassifier\n",
    "from sklearn.svm import SVC, LinearSVC\n",
    "from sklearn.naive_bayes import GaussianNB\n",
    "\n",
    "#accuracy check \n",
    "from sklearn import metrics\n",
    "from sklearn.model_selection import cross_validate"
   ]
  },
  {
   "cell_type": "code",
   "execution_count": 2,
   "id": "ce1abf94",
   "metadata": {},
   "outputs": [],
   "source": [
    "#open relevant files\n",
    "titanic = pd.read_csv('train.csv', index_col = 0, sep = ',')"
   ]
  },
  {
   "cell_type": "markdown",
   "id": "cc0198f8",
   "metadata": {},
   "source": [
    "***"
   ]
  },
  {
   "cell_type": "markdown",
   "id": "899414ac",
   "metadata": {},
   "source": [
    "## III. Splitting the data in train and test data"
   ]
  },
  {
   "cell_type": "code",
   "execution_count": 3,
   "id": "3332a699",
   "metadata": {
    "scrolled": false
   },
   "outputs": [],
   "source": [
    "#splitting the data\n",
    "X = titanic\n",
    "y = titanic['Survived']\n",
    "X_train, X_test, y_train, y_test = train_test_split(titanic, y, test_size=0.20, random_state = 101)"
   ]
  },
  {
   "cell_type": "code",
   "execution_count": 4,
   "id": "979921cf",
   "metadata": {},
   "outputs": [
    {
     "data": {
      "text/html": [
       "<div>\n",
       "<style scoped>\n",
       "    .dataframe tbody tr th:only-of-type {\n",
       "        vertical-align: middle;\n",
       "    }\n",
       "\n",
       "    .dataframe tbody tr th {\n",
       "        vertical-align: top;\n",
       "    }\n",
       "\n",
       "    .dataframe thead th {\n",
       "        text-align: right;\n",
       "    }\n",
       "</style>\n",
       "<table border=\"1\" class=\"dataframe\">\n",
       "  <thead>\n",
       "    <tr style=\"text-align: right;\">\n",
       "      <th></th>\n",
       "      <th>Survived</th>\n",
       "      <th>Pclass</th>\n",
       "      <th>Name</th>\n",
       "      <th>Sex</th>\n",
       "      <th>Age</th>\n",
       "      <th>SibSp</th>\n",
       "      <th>Parch</th>\n",
       "      <th>Ticket</th>\n",
       "      <th>Fare</th>\n",
       "      <th>Cabin</th>\n",
       "      <th>Embarked</th>\n",
       "    </tr>\n",
       "    <tr>\n",
       "      <th>PassengerId</th>\n",
       "      <th></th>\n",
       "      <th></th>\n",
       "      <th></th>\n",
       "      <th></th>\n",
       "      <th></th>\n",
       "      <th></th>\n",
       "      <th></th>\n",
       "      <th></th>\n",
       "      <th></th>\n",
       "      <th></th>\n",
       "      <th></th>\n",
       "    </tr>\n",
       "  </thead>\n",
       "  <tbody>\n",
       "    <tr>\n",
       "      <th>734</th>\n",
       "      <td>0</td>\n",
       "      <td>2</td>\n",
       "      <td>Berriman, Mr. William John</td>\n",
       "      <td>male</td>\n",
       "      <td>23.0</td>\n",
       "      <td>0</td>\n",
       "      <td>0</td>\n",
       "      <td>28425</td>\n",
       "      <td>13.00</td>\n",
       "      <td>NaN</td>\n",
       "      <td>S</td>\n",
       "    </tr>\n",
       "    <tr>\n",
       "      <th>858</th>\n",
       "      <td>1</td>\n",
       "      <td>1</td>\n",
       "      <td>Daly, Mr. Peter Denis</td>\n",
       "      <td>male</td>\n",
       "      <td>51.0</td>\n",
       "      <td>0</td>\n",
       "      <td>0</td>\n",
       "      <td>113055</td>\n",
       "      <td>26.55</td>\n",
       "      <td>E17</td>\n",
       "      <td>S</td>\n",
       "    </tr>\n",
       "    <tr>\n",
       "      <th>82</th>\n",
       "      <td>1</td>\n",
       "      <td>3</td>\n",
       "      <td>Sheerlinck, Mr. Jan Baptist</td>\n",
       "      <td>male</td>\n",
       "      <td>29.0</td>\n",
       "      <td>0</td>\n",
       "      <td>0</td>\n",
       "      <td>345779</td>\n",
       "      <td>9.50</td>\n",
       "      <td>NaN</td>\n",
       "      <td>S</td>\n",
       "    </tr>\n",
       "    <tr>\n",
       "      <th>320</th>\n",
       "      <td>1</td>\n",
       "      <td>1</td>\n",
       "      <td>Spedden, Mrs. Frederic Oakley (Margaretta Corn...</td>\n",
       "      <td>female</td>\n",
       "      <td>40.0</td>\n",
       "      <td>1</td>\n",
       "      <td>1</td>\n",
       "      <td>16966</td>\n",
       "      <td>134.50</td>\n",
       "      <td>E34</td>\n",
       "      <td>C</td>\n",
       "    </tr>\n",
       "    <tr>\n",
       "      <th>721</th>\n",
       "      <td>1</td>\n",
       "      <td>2</td>\n",
       "      <td>Harper, Miss. Annie Jessie \"Nina\"</td>\n",
       "      <td>female</td>\n",
       "      <td>6.0</td>\n",
       "      <td>0</td>\n",
       "      <td>1</td>\n",
       "      <td>248727</td>\n",
       "      <td>33.00</td>\n",
       "      <td>NaN</td>\n",
       "      <td>S</td>\n",
       "    </tr>\n",
       "  </tbody>\n",
       "</table>\n",
       "</div>"
      ],
      "text/plain": [
       "             Survived  Pclass  \\\n",
       "PassengerId                     \n",
       "734                 0       2   \n",
       "858                 1       1   \n",
       "82                  1       3   \n",
       "320                 1       1   \n",
       "721                 1       2   \n",
       "\n",
       "                                                          Name     Sex   Age  \\\n",
       "PassengerId                                                                    \n",
       "734                                 Berriman, Mr. William John    male  23.0   \n",
       "858                                     Daly, Mr. Peter Denis     male  51.0   \n",
       "82                                 Sheerlinck, Mr. Jan Baptist    male  29.0   \n",
       "320          Spedden, Mrs. Frederic Oakley (Margaretta Corn...  female  40.0   \n",
       "721                          Harper, Miss. Annie Jessie \"Nina\"  female   6.0   \n",
       "\n",
       "             SibSp  Parch  Ticket    Fare Cabin Embarked  \n",
       "PassengerId                                               \n",
       "734              0      0   28425   13.00   NaN        S  \n",
       "858              0      0  113055   26.55   E17        S  \n",
       "82               0      0  345779    9.50   NaN        S  \n",
       "320              1      1   16966  134.50   E34        C  \n",
       "721              0      1  248727   33.00   NaN        S  "
      ]
     },
     "execution_count": 4,
     "metadata": {},
     "output_type": "execute_result"
    }
   ],
   "source": [
    "#checking if the splitting worked\n",
    "X_train.head(5)"
   ]
  },
  {
   "cell_type": "code",
   "execution_count": 5,
   "id": "a1178845",
   "metadata": {
    "collapsed": true
   },
   "outputs": [
    {
     "name": "stdout",
     "output_type": "stream",
     "text": [
      "<class 'pandas.core.frame.DataFrame'>\n",
      "Int64Index: 179 entries, 332 to 467\n",
      "Data columns (total 11 columns):\n",
      " #   Column    Non-Null Count  Dtype  \n",
      "---  ------    --------------  -----  \n",
      " 0   Survived  179 non-null    int64  \n",
      " 1   Pclass    179 non-null    int64  \n",
      " 2   Name      179 non-null    object \n",
      " 3   Sex       179 non-null    object \n",
      " 4   Age       137 non-null    float64\n",
      " 5   SibSp     179 non-null    int64  \n",
      " 6   Parch     179 non-null    int64  \n",
      " 7   Ticket    179 non-null    object \n",
      " 8   Fare      179 non-null    float64\n",
      " 9   Cabin     47 non-null     object \n",
      " 10  Embarked  179 non-null    object \n",
      "dtypes: float64(2), int64(4), object(5)\n",
      "memory usage: 16.8+ KB\n"
     ]
    }
   ],
   "source": [
    "#checking if the splitting worked\n",
    "X_test.info()"
   ]
  },
  {
   "cell_type": "markdown",
   "id": "438564aa",
   "metadata": {},
   "source": [
    "***"
   ]
  },
  {
   "cell_type": "markdown",
   "id": "b7cf5e46",
   "metadata": {},
   "source": [
    "## IV. Exploring the train data set"
   ]
  },
  {
   "cell_type": "code",
   "execution_count": 6,
   "id": "727b187f",
   "metadata": {},
   "outputs": [],
   "source": [
    "#VARIABLES:\n",
    "\n",
    "#categorical: \n",
    "#Pclass: Passenger’s class\n",
    "#Sex: Passenger’s sex\n",
    "#SibSp: Number of siblings/spouses aboard\n",
    "#Parch: Number of parents/children aboard\n",
    "\n",
    "#nominal:\n",
    "#Age: Passenger’s age\n",
    "#Fare: Fare\n",
    "\n",
    "#excluded in the beginning: \n",
    "#Cabin: Cabin\n",
    "#Ticket: Ticket number\n",
    "#Name: Passenger’s name\n",
    "#Embarked: Port of embarkation\n",
    "\n",
    "########################################################\n",
    "\n",
    "#Y\n",
    "#Survived: Survived (1) or died (0)"
   ]
  },
  {
   "cell_type": "code",
   "execution_count": 7,
   "id": "08780dd1",
   "metadata": {},
   "outputs": [
    {
     "data": {
      "text/plain": [
       "<seaborn.axisgrid.PairGrid at 0x11e532b20>"
      ]
     },
     "execution_count": 7,
     "metadata": {},
     "output_type": "execute_result"
    },
    {
     "data": {
      "text/plain": [
       "<Figure size 432x288 with 0 Axes>"
      ]
     },
     "metadata": {},
     "output_type": "display_data"
    },
    {
     "data": {
      "image/png": "[encoded data removed]",
      "text/plain": [
       "<Figure size 955.55x900 with 30 Axes>"
      ]
     },
     "metadata": {},
     "output_type": "display_data"
    }
   ],
   "source": [
    "#examining the columns and the columns` values\n",
    "sns.set_theme(style=\"whitegrid\", palette=\"pastel\")\n",
    "sns.despine(left=True)\n",
    "sns.pairplot(X_train, hue= \"Survived\", markers=[\"o\", \"s\"])"
   ]
  },
  {
   "cell_type": "markdown",
   "id": "cafb3f50",
   "metadata": {},
   "source": [
    ">>> firstly, \"cabin\" & \"name\" are excluded as they are (more or less) related to fare price, and \"ticket\" and \"embarked\" are firstly excluded as theses features do not seem to really matter<br><br><font color='blue'>also \"name\", \"ticket\", \"embarked\" and \"cabin\" might be features that can lead to overfitting</font>"
   ]
  },
  {
   "cell_type": "markdown",
   "id": "a5445b1c",
   "metadata": {},
   "source": [
    "***"
   ]
  },
  {
   "cell_type": "markdown",
   "id": "68a32c29",
   "metadata": {},
   "source": [
    "### *CATEGORICAL: PASSENGER CLASS*"
   ]
  },
  {
   "cell_type": "code",
   "execution_count": 9,
   "id": "15067b66",
   "metadata": {},
   "outputs": [
    {
     "data": {
      "text/plain": [
       "<AxesSubplot:xlabel='Pclass', ylabel='Survived'>"
      ]
     },
     "execution_count": 9,
     "metadata": {},
     "output_type": "execute_result"
    },
    {
     "data": {
      "image/png": "[encoded data removed]",
      "text/plain": [
       "<Figure size 432x288 with 1 Axes>"
      ]
     },
     "metadata": {},
     "output_type": "display_data"
    }
   ],
   "source": [
    "# Draw a nested violinplot for Pclass and split the violins for easier comparison\n",
    "sns.set_theme(style=\"whitegrid\", palette=\"pastel\")\n",
    "sns.despine(left=True)\n",
    "\n",
    "sns.violinplot(data=X_train, x=\"Pclass\", y=\"Survived\",\n",
    "               split=True, inner=\"quart\", linewidth=1)"
   ]
  },
  {
   "cell_type": "markdown",
   "id": "46bc3ab5",
   "metadata": {},
   "source": [
    ">>>more people survived in the first class and more people died in the third class, also fits to pairplot and correlation matrix above<br><br><font color='blue'>\"passenger class\" should be included in the machine learning model</font>"
   ]
  },
  {
   "cell_type": "markdown",
   "id": "371bfd55",
   "metadata": {},
   "source": [
    "***"
   ]
  },
  {
   "cell_type": "markdown",
   "id": "deb3977c",
   "metadata": {},
   "source": [
    "### *CATEGORICAL: SEX*"
   ]
  },
  {
   "cell_type": "code",
   "execution_count": 10,
   "id": "97a5f9db",
   "metadata": {},
   "outputs": [
    {
     "data": {
      "image/png": "[encoded data removed]",
      "text/plain": [
       "<Figure size 432x288 with 1 Axes>"
      ]
     },
     "metadata": {},
     "output_type": "display_data"
    }
   ],
   "source": [
    "# Draw a nested violinplot for Sex and split the violins for easier comparison\n",
    "sns.violinplot(data=X_train, x=\"Sex\", y=\"Survived\",\n",
    "               split=True, inner=\"quart\", linewidth=1)\n",
    "sns.set_theme(style=\"whitegrid\", palette=\"pastel\")\n",
    "sns.despine(left=True)"
   ]
  },
  {
   "cell_type": "markdown",
   "id": "6d4c1e6e",
   "metadata": {},
   "source": [
    ">>>more male died than females, meaning that gender also played a role in survival chances <br><br><font color='blue'>\"sex\" should be included in the machine learning model*</font>"
   ]
  },
  {
   "cell_type": "markdown",
   "id": "74b6118a",
   "metadata": {},
   "source": [
    "***"
   ]
  },
  {
   "cell_type": "markdown",
   "id": "a4f3551b",
   "metadata": {},
   "source": [
    "### *CATEGORICAL: SIBLINGS/SPOUSES*"
   ]
  },
  {
   "cell_type": "code",
   "execution_count": 11,
   "id": "8ab56bd0",
   "metadata": {},
   "outputs": [
    {
     "data": {
      "image/png": "[encoded data removed]",
      "text/plain": [
       "<Figure size 432x288 with 1 Axes>"
      ]
     },
     "metadata": {},
     "output_type": "display_data"
    }
   ],
   "source": [
    "# Draw a nested violinplot for Sex and split the violins for easier comparison\n",
    "sns.violinplot(data=X_train, x=\"SibSp\", y=\"Survived\",\n",
    "               split=True, inner=\"quart\", linewidth=1)\n",
    "sns.set_theme(style=\"whitegrid\", palette=\"pastel\")\n",
    "sns.despine(left=True)"
   ]
  },
  {
   "cell_type": "markdown",
   "id": "e9025cdc",
   "metadata": {},
   "source": [
    ">>> if a traveller has 0 siblings/spouses, chances of dying are higher<br>if a traveller has 1 or 2 siblings/spouses, chances of dying are equal to surviving<br>if a traveller has 3 or 4 siblings/spouses, chances of dying are higher<br><br><font color='blue'>\"spouses/siblings\" should be included in the machine learning model</font>"
   ]
  },
  {
   "cell_type": "markdown",
   "id": "7971e248",
   "metadata": {},
   "source": [
    "***"
   ]
  },
  {
   "cell_type": "markdown",
   "id": "74a4f610",
   "metadata": {},
   "source": [
    "### *CATEGORICAL: PARENTS/CHILDREN*"
   ]
  },
  {
   "cell_type": "code",
   "execution_count": 12,
   "id": "b0026e1a",
   "metadata": {},
   "outputs": [
    {
     "data": {
      "image/png": "[encoded data removed]",
      "text/plain": [
       "<Figure size 432x288 with 1 Axes>"
      ]
     },
     "metadata": {},
     "output_type": "display_data"
    }
   ],
   "source": [
    "# Draw a nested violinplot for Parents/Children and split the violins for easier comparison\n",
    "sns.violinplot(data=X_train, x=\"Parch\", y=\"Survived\",\n",
    "               split=True, inner=\"quart\", linewidth=1)\n",
    "sns.set_theme(style=\"whitegrid\", palette=\"pastel\")\n",
    "sns.despine(left=True)\n",
    "\n"
   ]
  },
  {
   "cell_type": "markdown",
   "id": "6ad81b04",
   "metadata": {},
   "source": [
    ">>> if a traveller has 0 parents/children, chances of dying are higher<br><br>if a traveller has 1 or 2 parents/children, chances of dying are equal to surviving<br>if a traveller has 3 parents/children, chances of surviving are higher<br>if a traveller has 5 parents/children, chances of dying are higher<br><br><font color='blue'>\"parents/children\" should be included in the machine learning model</font>"
   ]
  },
  {
   "cell_type": "markdown",
   "id": "3654f154",
   "metadata": {},
   "source": [
    "***"
   ]
  },
  {
   "cell_type": "markdown",
   "id": "6531404e",
   "metadata": {},
   "source": [
    "***"
   ]
  },
  {
   "cell_type": "markdown",
   "id": "af724475",
   "metadata": {},
   "source": [
    "### *NOMINAL: AGE*"
   ]
  },
  {
   "cell_type": "code",
   "execution_count": 13,
   "id": "2546e5c8",
   "metadata": {},
   "outputs": [
    {
     "data": {
      "text/plain": [
       "<AxesSubplot:xlabel='Age', ylabel='Count'>"
      ]
     },
     "execution_count": 13,
     "metadata": {},
     "output_type": "execute_result"
    },
    {
     "data": {
      "text/plain": [
       "<Figure size 432x288 with 0 Axes>"
      ]
     },
     "metadata": {},
     "output_type": "display_data"
    },
    {
     "data": {
      "image/png": "[encoded data removed]",
      "text/plain": [
       "<Figure size 720x648 with 1 Axes>"
      ]
     },
     "metadata": {},
     "output_type": "display_data"
    }
   ],
   "source": [
    "#Creating a stacked histogram for \"Age\", hue being \"Survived\"\n",
    "\n",
    "sns.set_theme(style=\"whitegrid\", palette=\"pastel\")\n",
    "sns.despine(left=True)\n",
    "f, ax = plt.subplots(figsize=(10, 9))\n",
    "\n",
    "sns.histplot(\n",
    "    X_train,\n",
    "    x=\"Age\", hue=\"Survived\",\n",
    "    multiple=\"stack\",\n",
    "    edgecolor=\".3\",\n",
    "    linewidth=.5\n",
    ")\n"
   ]
  },
  {
   "cell_type": "markdown",
   "id": "f897f952",
   "metadata": {},
   "source": [
    ">>> unsurprisingly, it seemed to mattter if a passenger died or survived depending on given age<br><br>if a traveller was below the age of 5, chances of survival were relatively good<br>if a traveller was between 15 and 45, chances of dying were significantly higher than chances of survival<br><br><font color='blue'>\"age\" should be included in the machine learning model</font>"
   ]
  },
  {
   "cell_type": "markdown",
   "id": "0e591aca",
   "metadata": {},
   "source": [
    "***"
   ]
  },
  {
   "cell_type": "markdown",
   "id": "0637799e",
   "metadata": {},
   "source": [
    "### *NOMINAL: FARE*"
   ]
  },
  {
   "cell_type": "code",
   "execution_count": 14,
   "id": "eb8a9d91",
   "metadata": {},
   "outputs": [
    {
     "data": {
      "text/plain": [
       "<AxesSubplot:xlabel='Fare', ylabel='Count'>"
      ]
     },
     "execution_count": 14,
     "metadata": {},
     "output_type": "execute_result"
    },
    {
     "data": {
      "text/plain": [
       "<Figure size 432x288 with 0 Axes>"
      ]
     },
     "metadata": {},
     "output_type": "display_data"
    },
    {
     "data": {
      "image/png": "[encoded data removed]",
      "text/plain": [
       "<Figure size 720x648 with 1 Axes>"
      ]
     },
     "metadata": {},
     "output_type": "display_data"
    }
   ],
   "source": [
    "#Creating a stacked histogram for \"Age\", hue being \"Survived\"\n",
    "\n",
    "sns.set_theme(style=\"whitegrid\", palette=\"pastel\")\n",
    "sns.despine(left=True)\n",
    "f, ax = plt.subplots(figsize=(10,9))\n",
    "\n",
    "sns.histplot(\n",
    "    X_train,\n",
    "    x=\"Fare\", hue=\"Survived\",\n",
    "    multiple=\"stack\",\n",
    "    edgecolor=\".3\",\n",
    "    linewidth=.5\n",
    ")\n"
   ]
  },
  {
   "cell_type": "markdown",
   "id": "de129b5b",
   "metadata": {},
   "source": [
    ">>> unsurprisingly, it seemed to mattter if a passenger died or survived depending on paid fare price<br><br> if a traveller paid below circa 30 pounds, chances of dying were way higher than of survival > paid fare price might also be correspondent to sleeping deck (A,B,C,D) and access to lifeboats, etc.<br><br><font color='blue'> \"fare\" should be included in the machine learning model</font>"
   ]
  },
  {
   "cell_type": "markdown",
   "id": "116e0e9f",
   "metadata": {},
   "source": [
    "## <font color='blue'>SUMMARY /// EXPLORATORY DATA ANALYSIS \n",
    "Only the very generalizable features are included in this notebook (keyword: overfitting), being applied in three different machine learning models. M1 only contains demographic features, M2 contains demographic as well as socioeconomic features, M3 contains demographic, socioeconomic as well as social features.<br><br><font color='blue'>Features included in this notebook:</font><br> 1. Demographic features: \"Age\" and \"Sex\"<br>2. Socioeconomic features: \"Fare\" and \"Passenger`s class\"<br>3. Social features: \"Number of siblings/spouses aboard\" and \"Number of parents/children aboard\"<br><br><font color='blue'>Features excluded in this notebook:</font><br>4. Titanic specific features: \"Port of embarkation\", and maybe later on also \"Name\", \"Ticket\", and \"Cabin\"</font>"
   ]
  },
  {
   "cell_type": "markdown",
   "id": "3e4ba8f2",
   "metadata": {},
   "source": [
    "***"
   ]
  },
  {
   "cell_type": "markdown",
   "id": "d815c912",
   "metadata": {},
   "source": [
    "## V. Feature Engineering"
   ]
  },
  {
   "cell_type": "markdown",
   "id": "e3098f45",
   "metadata": {},
   "source": [
    "### *V.I. Removing the y from train and test data*"
   ]
  },
  {
   "cell_type": "code",
   "execution_count": 15,
   "id": "08aee70b",
   "metadata": {
    "scrolled": false
   },
   "outputs": [],
   "source": [
    "#removing the column \"Survived\" from the train and test dataset \n",
    "X_train = X_train.drop('Survived', axis = 1)\n",
    "X_test = X_test.drop('Survived', axis = 1)"
   ]
  },
  {
   "cell_type": "code",
   "execution_count": 16,
   "id": "70941a1c",
   "metadata": {},
   "outputs": [
    {
     "data": {
      "text/html": [
       "<div>\n",
       "<style scoped>\n",
       "    .dataframe tbody tr th:only-of-type {\n",
       "        vertical-align: middle;\n",
       "    }\n",
       "\n",
       "    .dataframe tbody tr th {\n",
       "        vertical-align: top;\n",
       "    }\n",
       "\n",
       "    .dataframe thead th {\n",
       "        text-align: right;\n",
       "    }\n",
       "</style>\n",
       "<table border=\"1\" class=\"dataframe\">\n",
       "  <thead>\n",
       "    <tr style=\"text-align: right;\">\n",
       "      <th></th>\n",
       "      <th>Pclass</th>\n",
       "      <th>Name</th>\n",
       "      <th>Sex</th>\n",
       "      <th>Age</th>\n",
       "      <th>SibSp</th>\n",
       "      <th>Parch</th>\n",
       "      <th>Ticket</th>\n",
       "      <th>Fare</th>\n",
       "      <th>Cabin</th>\n",
       "      <th>Embarked</th>\n",
       "    </tr>\n",
       "    <tr>\n",
       "      <th>PassengerId</th>\n",
       "      <th></th>\n",
       "      <th></th>\n",
       "      <th></th>\n",
       "      <th></th>\n",
       "      <th></th>\n",
       "      <th></th>\n",
       "      <th></th>\n",
       "      <th></th>\n",
       "      <th></th>\n",
       "      <th></th>\n",
       "    </tr>\n",
       "  </thead>\n",
       "  <tbody>\n",
       "    <tr>\n",
       "      <th>332</th>\n",
       "      <td>1</td>\n",
       "      <td>Partner, Mr. Austen</td>\n",
       "      <td>male</td>\n",
       "      <td>45.5</td>\n",
       "      <td>0</td>\n",
       "      <td>0</td>\n",
       "      <td>113043</td>\n",
       "      <td>28.500</td>\n",
       "      <td>C124</td>\n",
       "      <td>S</td>\n",
       "    </tr>\n",
       "    <tr>\n",
       "      <th>701</th>\n",
       "      <td>1</td>\n",
       "      <td>Astor, Mrs. John Jacob (Madeleine Talmadge Force)</td>\n",
       "      <td>female</td>\n",
       "      <td>18.0</td>\n",
       "      <td>1</td>\n",
       "      <td>0</td>\n",
       "      <td>PC 17757</td>\n",
       "      <td>227.525</td>\n",
       "      <td>C62 C64</td>\n",
       "      <td>C</td>\n",
       "    </tr>\n",
       "    <tr>\n",
       "      <th>749</th>\n",
       "      <td>1</td>\n",
       "      <td>Marvin, Mr. Daniel Warner</td>\n",
       "      <td>male</td>\n",
       "      <td>19.0</td>\n",
       "      <td>1</td>\n",
       "      <td>0</td>\n",
       "      <td>113773</td>\n",
       "      <td>53.100</td>\n",
       "      <td>D30</td>\n",
       "      <td>S</td>\n",
       "    </tr>\n",
       "    <tr>\n",
       "      <th>752</th>\n",
       "      <td>3</td>\n",
       "      <td>Moor, Master. Meier</td>\n",
       "      <td>male</td>\n",
       "      <td>6.0</td>\n",
       "      <td>0</td>\n",
       "      <td>1</td>\n",
       "      <td>392096</td>\n",
       "      <td>12.475</td>\n",
       "      <td>E121</td>\n",
       "      <td>S</td>\n",
       "    </tr>\n",
       "    <tr>\n",
       "      <th>482</th>\n",
       "      <td>2</td>\n",
       "      <td>Frost, Mr. Anthony Wood \"Archie\"</td>\n",
       "      <td>male</td>\n",
       "      <td>NaN</td>\n",
       "      <td>0</td>\n",
       "      <td>0</td>\n",
       "      <td>239854</td>\n",
       "      <td>0.000</td>\n",
       "      <td>NaN</td>\n",
       "      <td>S</td>\n",
       "    </tr>\n",
       "  </tbody>\n",
       "</table>\n",
       "</div>"
      ],
      "text/plain": [
       "             Pclass                                               Name  \\\n",
       "PassengerId                                                              \n",
       "332               1                                Partner, Mr. Austen   \n",
       "701               1  Astor, Mrs. John Jacob (Madeleine Talmadge Force)   \n",
       "749               1                          Marvin, Mr. Daniel Warner   \n",
       "752               3                                Moor, Master. Meier   \n",
       "482               2                   Frost, Mr. Anthony Wood \"Archie\"   \n",
       "\n",
       "                Sex   Age  SibSp  Parch    Ticket     Fare    Cabin Embarked  \n",
       "PassengerId                                                                   \n",
       "332            male  45.5      0      0    113043   28.500     C124        S  \n",
       "701          female  18.0      1      0  PC 17757  227.525  C62 C64        C  \n",
       "749            male  19.0      1      0    113773   53.100      D30        S  \n",
       "752            male   6.0      0      1    392096   12.475     E121        S  \n",
       "482            male   NaN      0      0    239854    0.000      NaN        S  "
      ]
     },
     "execution_count": 16,
     "metadata": {},
     "output_type": "execute_result"
    }
   ],
   "source": [
    "#checking if y true was deleted from the train and test dataset \n",
    "X_train.head()\n",
    "X_test.head()"
   ]
  },
  {
   "cell_type": "markdown",
   "id": "b6aee630",
   "metadata": {},
   "source": [
    "***"
   ]
  },
  {
   "cell_type": "markdown",
   "id": "d32d2d93",
   "metadata": {},
   "source": [
    "### *V.II. Removing the secondary features from the datasets: \"Port of embarkation\", \"Name\", \"Ticket\", and \"Cabin\"*"
   ]
  },
  {
   "cell_type": "code",
   "execution_count": 17,
   "id": "4fb0e1ba",
   "metadata": {},
   "outputs": [],
   "source": [
    "#removing the column \"Port of embarkation\", \"Name\", \"Ticket\", and \"Cabin\" from the train and test dataset \n",
    "X_train = X_train.drop(['Embarked','Name', 'Ticket','Cabin'], axis = 1)\n",
    "X_test = X_test.drop(['Embarked','Name', 'Ticket','Cabin'], axis = 1)"
   ]
  },
  {
   "cell_type": "code",
   "execution_count": 18,
   "id": "c2a33b32",
   "metadata": {},
   "outputs": [
    {
     "data": {
      "text/plain": [
       "<bound method DataFrame.info of                 Sex   Age  Pclass      Fare  SibSp  Parch\n",
       "PassengerId                                              \n",
       "734            male  23.0       2   13.0000      0      0\n",
       "858            male  51.0       1   26.5500      0      0\n",
       "82             male  29.0       3    9.5000      0      0\n",
       "320          female  40.0       1  134.5000      1      1\n",
       "721          female   6.0       2   33.0000      0      1\n",
       "...             ...   ...     ...       ...    ...    ...\n",
       "576            male  19.0       3   14.5000      0      0\n",
       "839            male  32.0       3   56.4958      0      0\n",
       "338          female  41.0       1  134.5000      0      0\n",
       "524          female  44.0       1   57.9792      0      1\n",
       "864          female   NaN       3   69.5500      8      2\n",
       "\n",
       "[712 rows x 6 columns]>"
      ]
     },
     "execution_count": 18,
     "metadata": {},
     "output_type": "execute_result"
    }
   ],
   "source": [
    "#reordering the columns \"demographic features\", \"socioeconomic features\" and \"social features\" (just for fun)\n",
    "column_names = [\"Sex\", \"Age\", \"Pclass\", \"Fare\", \"SibSp\", \"Parch\"]\n",
    "X_train = X_train.reindex(columns=column_names)\n",
    "X_test = X_test.reindex(columns=column_names)\n",
    "X_train.info"
   ]
  },
  {
   "cell_type": "markdown",
   "id": "b4b98e31",
   "metadata": {},
   "source": [
    "***"
   ]
  },
  {
   "cell_type": "markdown",
   "id": "51f1f8d4",
   "metadata": {},
   "source": [
    "### *V.III. Discover and replace missing values for the train and test datasets*"
   ]
  },
  {
   "cell_type": "code",
   "execution_count": 19,
   "id": "cfe097ce",
   "metadata": {},
   "outputs": [
    {
     "data": {
      "text/plain": [
       "Sex         0\n",
       "Age       135\n",
       "Pclass      0\n",
       "Fare        0\n",
       "SibSp       0\n",
       "Parch       0\n",
       "dtype: int64"
      ]
     },
     "execution_count": 19,
     "metadata": {},
     "output_type": "execute_result"
    }
   ],
   "source": [
    "#Checking how many missed columns there are /// Age\n",
    "X_train.isna().sum()"
   ]
  },
  {
   "cell_type": "code",
   "execution_count": 20,
   "id": "9387913a",
   "metadata": {},
   "outputs": [],
   "source": [
    "#Applying the KNNImputer on Age, \n",
    "imputer = KNNImputer(n_neighbors=5, weights='uniform', metric='nan_euclidean', copy=False, add_indicator=False)\n",
    "cols_train = X_train[['Age']]\n",
    "cols_test = X_test[['Age']]"
   ]
  },
  {
   "cell_type": "code",
   "execution_count": 21,
   "id": "5f8edf7a",
   "metadata": {},
   "outputs": [
    {
     "data": {
      "text/plain": [
       "KNNImputer(copy=False)"
      ]
     },
     "execution_count": 21,
     "metadata": {},
     "output_type": "execute_result"
    }
   ],
   "source": [
    "#Fitting the KNN Imputer method on the train data set\n",
    "imputer.fit(cols_train) # DO NOT FIT ON TEST DATA"
   ]
  },
  {
   "cell_type": "code",
   "execution_count": 22,
   "id": "30dffce1",
   "metadata": {},
   "outputs": [],
   "source": [
    "#Transforming the age column for both datasets\n",
    "t_train = imputer.transform(cols_train)\n",
    "t_test = imputer.transform(cols_test)"
   ]
  },
  {
   "cell_type": "code",
   "execution_count": 23,
   "id": "befdb012",
   "metadata": {},
   "outputs": [],
   "source": [
    "#Creating a new dataframe for each age column, train and test\n",
    "age_imputed_train = pd.DataFrame(t_train, columns=cols_train.columns)\n",
    "age_imputed_test = pd.DataFrame(t_test, columns=cols_test.columns)"
   ]
  },
  {
   "cell_type": "code",
   "execution_count": 24,
   "id": "9da3d72b",
   "metadata": {},
   "outputs": [],
   "source": [
    "#Exchanging the \"Age\" values\n",
    "X_train['Age'] = age_imputed_train.values\n",
    "X_test['Age'] = age_imputed_test.values"
   ]
  },
  {
   "cell_type": "code",
   "execution_count": 77,
   "id": "0b2cd21d",
   "metadata": {},
   "outputs": [
    {
     "data": {
      "text/html": [
       "<div>\n",
       "<style scoped>\n",
       "    .dataframe tbody tr th:only-of-type {\n",
       "        vertical-align: middle;\n",
       "    }\n",
       "\n",
       "    .dataframe tbody tr th {\n",
       "        vertical-align: top;\n",
       "    }\n",
       "\n",
       "    .dataframe thead th {\n",
       "        text-align: right;\n",
       "    }\n",
       "</style>\n",
       "<table border=\"1\" class=\"dataframe\">\n",
       "  <thead>\n",
       "    <tr style=\"text-align: right;\">\n",
       "      <th></th>\n",
       "      <th>Sex</th>\n",
       "      <th>Age</th>\n",
       "      <th>Pclass</th>\n",
       "      <th>Fare</th>\n",
       "      <th>SibSp</th>\n",
       "      <th>Parch</th>\n",
       "    </tr>\n",
       "    <tr>\n",
       "      <th>PassengerId</th>\n",
       "      <th></th>\n",
       "      <th></th>\n",
       "      <th></th>\n",
       "      <th></th>\n",
       "      <th></th>\n",
       "      <th></th>\n",
       "    </tr>\n",
       "  </thead>\n",
       "  <tbody>\n",
       "    <tr>\n",
       "      <th>734</th>\n",
       "      <td>male</td>\n",
       "      <td>23.000000</td>\n",
       "      <td>2</td>\n",
       "      <td>13.0000</td>\n",
       "      <td>0</td>\n",
       "      <td>0</td>\n",
       "    </tr>\n",
       "    <tr>\n",
       "      <th>858</th>\n",
       "      <td>male</td>\n",
       "      <td>51.000000</td>\n",
       "      <td>1</td>\n",
       "      <td>26.5500</td>\n",
       "      <td>0</td>\n",
       "      <td>0</td>\n",
       "    </tr>\n",
       "    <tr>\n",
       "      <th>82</th>\n",
       "      <td>male</td>\n",
       "      <td>29.000000</td>\n",
       "      <td>3</td>\n",
       "      <td>9.5000</td>\n",
       "      <td>0</td>\n",
       "      <td>0</td>\n",
       "    </tr>\n",
       "    <tr>\n",
       "      <th>320</th>\n",
       "      <td>female</td>\n",
       "      <td>40.000000</td>\n",
       "      <td>1</td>\n",
       "      <td>134.5000</td>\n",
       "      <td>1</td>\n",
       "      <td>1</td>\n",
       "    </tr>\n",
       "    <tr>\n",
       "      <th>721</th>\n",
       "      <td>female</td>\n",
       "      <td>6.000000</td>\n",
       "      <td>2</td>\n",
       "      <td>33.0000</td>\n",
       "      <td>0</td>\n",
       "      <td>1</td>\n",
       "    </tr>\n",
       "    <tr>\n",
       "      <th>...</th>\n",
       "      <td>...</td>\n",
       "      <td>...</td>\n",
       "      <td>...</td>\n",
       "      <td>...</td>\n",
       "      <td>...</td>\n",
       "      <td>...</td>\n",
       "    </tr>\n",
       "    <tr>\n",
       "      <th>576</th>\n",
       "      <td>male</td>\n",
       "      <td>19.000000</td>\n",
       "      <td>3</td>\n",
       "      <td>14.5000</td>\n",
       "      <td>0</td>\n",
       "      <td>0</td>\n",
       "    </tr>\n",
       "    <tr>\n",
       "      <th>839</th>\n",
       "      <td>male</td>\n",
       "      <td>32.000000</td>\n",
       "      <td>3</td>\n",
       "      <td>56.4958</td>\n",
       "      <td>0</td>\n",
       "      <td>0</td>\n",
       "    </tr>\n",
       "    <tr>\n",
       "      <th>338</th>\n",
       "      <td>female</td>\n",
       "      <td>41.000000</td>\n",
       "      <td>1</td>\n",
       "      <td>134.5000</td>\n",
       "      <td>0</td>\n",
       "      <td>0</td>\n",
       "    </tr>\n",
       "    <tr>\n",
       "      <th>524</th>\n",
       "      <td>female</td>\n",
       "      <td>44.000000</td>\n",
       "      <td>1</td>\n",
       "      <td>57.9792</td>\n",
       "      <td>0</td>\n",
       "      <td>1</td>\n",
       "    </tr>\n",
       "    <tr>\n",
       "      <th>864</th>\n",
       "      <td>female</td>\n",
       "      <td>29.689203</td>\n",
       "      <td>3</td>\n",
       "      <td>69.5500</td>\n",
       "      <td>8</td>\n",
       "      <td>2</td>\n",
       "    </tr>\n",
       "  </tbody>\n",
       "</table>\n",
       "<p>712 rows × 6 columns</p>\n",
       "</div>"
      ],
      "text/plain": [
       "                Sex        Age  Pclass      Fare  SibSp  Parch\n",
       "PassengerId                                                   \n",
       "734            male  23.000000       2   13.0000      0      0\n",
       "858            male  51.000000       1   26.5500      0      0\n",
       "82             male  29.000000       3    9.5000      0      0\n",
       "320          female  40.000000       1  134.5000      1      1\n",
       "721          female   6.000000       2   33.0000      0      1\n",
       "...             ...        ...     ...       ...    ...    ...\n",
       "576            male  19.000000       3   14.5000      0      0\n",
       "839            male  32.000000       3   56.4958      0      0\n",
       "338          female  41.000000       1  134.5000      0      0\n",
       "524          female  44.000000       1   57.9792      0      1\n",
       "864          female  29.689203       3   69.5500      8      2\n",
       "\n",
       "[712 rows x 6 columns]"
      ]
     },
     "execution_count": 77,
     "metadata": {},
     "output_type": "execute_result"
    }
   ],
   "source": [
    "#Final check\n",
    "X_train"
   ]
  },
  {
   "cell_type": "markdown",
   "id": "8c679fc6",
   "metadata": {},
   "source": [
    "***"
   ]
  },
  {
   "cell_type": "markdown",
   "id": "9b2cef1e",
   "metadata": {},
   "source": [
    "***"
   ]
  },
  {
   "cell_type": "markdown",
   "id": "17dd794a",
   "metadata": {},
   "source": [
    "## VI. Train model(s)"
   ]
  },
  {
   "cell_type": "markdown",
   "id": "a9f44c3c",
   "metadata": {},
   "source": [
    "### <font color='blue'>MODEL I: Demographic features<font>"
   ]
  },
  {
   "cell_type": "markdown",
   "id": "49780ae3",
   "metadata": {},
   "source": [
    "*Feature Engineering: Transforming the numerical and categorical columns*"
   ]
  },
  {
   "cell_type": "code",
   "execution_count": 26,
   "id": "53d7a83c",
   "metadata": {},
   "outputs": [],
   "source": [
    "#Slicing out the demographic features only\n",
    "X_train_m1 = X_train[['Sex','Age']]\n",
    "X_test_m1 = X_test[['Sex','Age']]"
   ]
  },
  {
   "cell_type": "code",
   "execution_count": 27,
   "id": "22be9a51",
   "metadata": {},
   "outputs": [],
   "source": [
    "#Seperating the numerical and categorical columns \n",
    "categorical_columns = ['Sex']\n",
    "numerical_columns = ['Age']"
   ]
  },
  {
   "cell_type": "code",
   "execution_count": 28,
   "id": "b6fa5f7a",
   "metadata": {},
   "outputs": [],
   "source": [
    "#Defining the transformer and its parameters\n",
    "column_transformer = ColumnTransformer([\n",
    "    ('cat_encoder', OneHotEncoder(sparse=False, handle_unknown='ignore'), categorical_columns),\n",
    "    ('num_scaler', MinMaxScaler(), numerical_columns)\n",
    "])"
   ]
  },
  {
   "cell_type": "code",
   "execution_count": 29,
   "id": "794194d5",
   "metadata": {},
   "outputs": [
    {
     "data": {
      "text/plain": [
       "ColumnTransformer(transformers=[('cat_encoder',\n",
       "                                 OneHotEncoder(handle_unknown='ignore',\n",
       "                                               sparse=False),\n",
       "                                 ['Sex']),\n",
       "                                ('num_scaler', MinMaxScaler(), ['Age'])])"
      ]
     },
     "execution_count": 29,
     "metadata": {},
     "output_type": "execute_result"
    }
   ],
   "source": [
    "#Fitting the columns to the transforming method\n",
    "column_transformer.fit(X_train_m1) # DO NOT FIT ON TEST DATA"
   ]
  },
  {
   "cell_type": "code",
   "execution_count": 30,
   "id": "2319f843",
   "metadata": {
    "scrolled": true
   },
   "outputs": [],
   "source": [
    "#Transforming the columns\n",
    "X_train_m1 = column_transformer.transform(X_train_m1)\n",
    "X_test_m1 = column_transformer.transform(X_test_m1) "
   ]
  },
  {
   "cell_type": "markdown",
   "id": "81c5cdd1",
   "metadata": {},
   "source": [
    "***"
   ]
  },
  {
   "cell_type": "markdown",
   "id": "641cc60a",
   "metadata": {},
   "source": [
    "*Applying a logistic regression model*"
   ]
  },
  {
   "cell_type": "code",
   "execution_count": 31,
   "id": "17e6ea7b",
   "metadata": {},
   "outputs": [],
   "source": [
    "#applying a logistic regression model \n",
    "m = LogisticRegression()"
   ]
  },
  {
   "cell_type": "code",
   "execution_count": 32,
   "id": "30fc5de8",
   "metadata": {
    "scrolled": true
   },
   "outputs": [
    {
     "data": {
      "text/plain": [
       "LogisticRegression()"
      ]
     },
     "execution_count": 32,
     "metadata": {},
     "output_type": "execute_result"
    }
   ],
   "source": [
    "#train the model \n",
    "m.fit(X_train_m1, y_train)"
   ]
  },
  {
   "cell_type": "code",
   "execution_count": 33,
   "id": "16c76e50",
   "metadata": {
    "scrolled": false
   },
   "outputs": [
    {
     "data": {
      "text/plain": [
       "0.7851123595505618"
      ]
     },
     "execution_count": 33,
     "metadata": {},
     "output_type": "execute_result"
    }
   ],
   "source": [
    "#Calculating the score for the train data set\n",
    "m.score(X_train_m1, y_train)"
   ]
  },
  {
   "cell_type": "code",
   "execution_count": 34,
   "id": "dbdd5c95",
   "metadata": {},
   "outputs": [
    {
     "data": {
      "text/plain": [
       "0.7932960893854749"
      ]
     },
     "execution_count": 34,
     "metadata": {},
     "output_type": "execute_result"
    }
   ],
   "source": [
    "#Calculating the score for the test data set\n",
    "m.score(X_test_m1, y_test)"
   ]
  },
  {
   "cell_type": "code",
   "execution_count": 35,
   "id": "fdbff971",
   "metadata": {},
   "outputs": [],
   "source": [
    "#Predicting \n",
    "y_pred = m.predict(X_test_m1)"
   ]
  },
  {
   "cell_type": "markdown",
   "id": "23e09edf",
   "metadata": {},
   "source": [
    "***"
   ]
  },
  {
   "cell_type": "markdown",
   "id": "81b0e045",
   "metadata": {},
   "source": [
    "*Checking out the metrics*"
   ]
  },
  {
   "cell_type": "code",
   "execution_count": 36,
   "id": "c4bc7fe4",
   "metadata": {},
   "outputs": [
    {
     "data": {
      "text/plain": [
       "0.7932960893854749"
      ]
     },
     "execution_count": 36,
     "metadata": {},
     "output_type": "execute_result"
    }
   ],
   "source": [
    "#checking out the accuracy score\n",
    "metrics.accuracy_score(y_test, y_pred)  "
   ]
  },
  {
   "cell_type": "code",
   "execution_count": 37,
   "id": "1f0b0157",
   "metadata": {},
   "outputs": [
    {
     "data": {
      "text/plain": [
       "0.8307692307692308"
      ]
     },
     "execution_count": 37,
     "metadata": {},
     "output_type": "execute_result"
    }
   ],
   "source": [
    "#checking out the precision score\n",
    "metrics.precision_score(y_test, y_pred) "
   ]
  },
  {
   "cell_type": "code",
   "execution_count": 38,
   "id": "ac5e94e0",
   "metadata": {},
   "outputs": [
    {
     "data": {
      "text/plain": [
       "0.675"
      ]
     },
     "execution_count": 38,
     "metadata": {},
     "output_type": "execute_result"
    }
   ],
   "source": [
    "#checking out the recall\n",
    "metrics.recall_score(y_test, y_pred) "
   ]
  },
  {
   "cell_type": "code",
   "execution_count": 39,
   "id": "154bdc00",
   "metadata": {},
   "outputs": [
    {
     "data": {
      "text/plain": [
       "0.7448275862068966"
      ]
     },
     "execution_count": 39,
     "metadata": {},
     "output_type": "execute_result"
    }
   ],
   "source": [
    "#checking out f1\n",
    "metrics.f1_score(y_test, y_pred) "
   ]
  },
  {
   "cell_type": "code",
   "execution_count": 40,
   "id": "2a19f628",
   "metadata": {},
   "outputs": [
    {
     "data": {
      "text/plain": [
       "<sklearn.metrics._plot.confusion_matrix.ConfusionMatrixDisplay at 0x11ff77d00>"
      ]
     },
     "execution_count": 40,
     "metadata": {},
     "output_type": "execute_result"
    },
    {
     "data": {
      "image/png": "[encoded data removed]",
      "text/plain": [
       "<Figure size 432x288 with 2 Axes>"
      ]
     },
     "metadata": {},
     "output_type": "display_data"
    }
   ],
   "source": [
    "#Applying a confusion matrix \n",
    "metrics.confusion_matrix(y_test, y_pred)\n",
    "metrics.plot_confusion_matrix(m, X_test_m1, y_test, cmap='Blues')"
   ]
  },
  {
   "cell_type": "code",
   "execution_count": 41,
   "id": "1a93bdf8",
   "metadata": {
    "scrolled": true
   },
   "outputs": [
    {
     "data": {
      "text/plain": [
       "<sklearn.metrics._plot.roc_curve.RocCurveDisplay at 0x11fd95310>"
      ]
     },
     "execution_count": 41,
     "metadata": {},
     "output_type": "execute_result"
    },
    {
     "data": {
      "image/png": "[encoded data removed]",
      "text/plain": [
       "<Figure size 432x288 with 1 Axes>"
      ]
     },
     "metadata": {},
     "output_type": "display_data"
    }
   ],
   "source": [
    "#Checking out the ROC / AUC \n",
    "metrics.plot_roc_curve(m, X_test_m1, y_test)"
   ]
  },
  {
   "cell_type": "markdown",
   "id": "3561c891",
   "metadata": {},
   "source": [
    "***"
   ]
  },
  {
   "cell_type": "markdown",
   "id": "2b0d408f",
   "metadata": {},
   "source": [
    "### <font color='blue'>MODEL II: Demograpic features + socioeconomic features<font>"
   ]
  },
  {
   "cell_type": "markdown",
   "id": "c88eee0a",
   "metadata": {},
   "source": [
    "*Feature Engineering: Transforming the numerical and categorical columns*"
   ]
  },
  {
   "cell_type": "code",
   "execution_count": 42,
   "id": "414d38df",
   "metadata": {},
   "outputs": [],
   "source": [
    "#Slicing out the demographic features only\n",
    "X_train_m2 = X_train[['Sex','Age','Pclass','Fare']]\n",
    "X_test_m2 = X_test[['Sex','Age','Pclass','Fare']]"
   ]
  },
  {
   "cell_type": "code",
   "execution_count": 43,
   "id": "a63cb818",
   "metadata": {},
   "outputs": [],
   "source": [
    "#Seperating the numerical and categorical columns \n",
    "categorical_columns = ['Sex', 'Pclass']\n",
    "numerical_columns = ['Age', 'Fare']"
   ]
  },
  {
   "cell_type": "code",
   "execution_count": 44,
   "id": "cde5f18d",
   "metadata": {},
   "outputs": [],
   "source": [
    "#Defining the transformer and its parameters\n",
    "column_transformer = ColumnTransformer([\n",
    "    ('cat_encoder', OneHotEncoder(sparse=False, handle_unknown='ignore'), categorical_columns),\n",
    "    ('num_scaler', MinMaxScaler(), numerical_columns)\n",
    "])"
   ]
  },
  {
   "cell_type": "code",
   "execution_count": 45,
   "id": "7868516f",
   "metadata": {},
   "outputs": [
    {
     "data": {
      "text/plain": [
       "ColumnTransformer(transformers=[('cat_encoder',\n",
       "                                 OneHotEncoder(handle_unknown='ignore',\n",
       "                                               sparse=False),\n",
       "                                 ['Sex', 'Pclass']),\n",
       "                                ('num_scaler', MinMaxScaler(),\n",
       "                                 ['Age', 'Fare'])])"
      ]
     },
     "execution_count": 45,
     "metadata": {},
     "output_type": "execute_result"
    }
   ],
   "source": [
    "#Fitting the columns to the transforming method\n",
    "column_transformer.fit(X_train_m2) # DO NOT FIT ON TEST DATA"
   ]
  },
  {
   "cell_type": "code",
   "execution_count": 46,
   "id": "abf51a1a",
   "metadata": {
    "scrolled": true
   },
   "outputs": [],
   "source": [
    "#Transforming the columns\n",
    "X_train_m2 = column_transformer.transform(X_train_m2)\n",
    "X_test_m2 = column_transformer.transform(X_test_m2) "
   ]
  },
  {
   "cell_type": "markdown",
   "id": "284c3c04",
   "metadata": {},
   "source": [
    "***"
   ]
  },
  {
   "cell_type": "markdown",
   "id": "98019a49",
   "metadata": {},
   "source": [
    "*Applying a logistic regression model*"
   ]
  },
  {
   "cell_type": "code",
   "execution_count": 47,
   "id": "dbb9bf20",
   "metadata": {},
   "outputs": [],
   "source": [
    "#applying a logistic regression model \n",
    "m = LogisticRegression()"
   ]
  },
  {
   "cell_type": "code",
   "execution_count": 48,
   "id": "9a6c76f0",
   "metadata": {
    "scrolled": true
   },
   "outputs": [
    {
     "data": {
      "text/plain": [
       "LogisticRegression()"
      ]
     },
     "execution_count": 48,
     "metadata": {},
     "output_type": "execute_result"
    }
   ],
   "source": [
    "#train the model \n",
    "m.fit(X_train_m2, y_train)"
   ]
  },
  {
   "cell_type": "code",
   "execution_count": 49,
   "id": "512c9fc6",
   "metadata": {
    "scrolled": false
   },
   "outputs": [
    {
     "data": {
      "text/plain": [
       "0.7963483146067416"
      ]
     },
     "execution_count": 49,
     "metadata": {},
     "output_type": "execute_result"
    }
   ],
   "source": [
    "#Calculating the score for the train data set\n",
    "m.score(X_train_m2, y_train)"
   ]
  },
  {
   "cell_type": "code",
   "execution_count": 50,
   "id": "3c55b75f",
   "metadata": {},
   "outputs": [
    {
     "data": {
      "text/plain": [
       "0.8100558659217877"
      ]
     },
     "execution_count": 50,
     "metadata": {},
     "output_type": "execute_result"
    }
   ],
   "source": [
    "#Calculating the score for the test data set\n",
    "m.score(X_test_m2, y_test)"
   ]
  },
  {
   "cell_type": "code",
   "execution_count": 51,
   "id": "b92fc234",
   "metadata": {},
   "outputs": [],
   "source": [
    "#Predicting \n",
    "y_pred = m.predict(X_test_m2)"
   ]
  },
  {
   "cell_type": "markdown",
   "id": "5b9b288f",
   "metadata": {},
   "source": [
    "***"
   ]
  },
  {
   "cell_type": "markdown",
   "id": "5fcc047e",
   "metadata": {},
   "source": [
    "*Checking out the metrics*"
   ]
  },
  {
   "cell_type": "code",
   "execution_count": 52,
   "id": "1efd64d3",
   "metadata": {},
   "outputs": [
    {
     "data": {
      "text/plain": [
       "0.8100558659217877"
      ]
     },
     "execution_count": 52,
     "metadata": {},
     "output_type": "execute_result"
    }
   ],
   "source": [
    "#checking out the accuracy score\n",
    "metrics.accuracy_score(y_test, y_pred)  "
   ]
  },
  {
   "cell_type": "code",
   "execution_count": 53,
   "id": "d016b162",
   "metadata": {},
   "outputs": [
    {
     "data": {
      "text/plain": [
       "0.859375"
      ]
     },
     "execution_count": 53,
     "metadata": {},
     "output_type": "execute_result"
    }
   ],
   "source": [
    "#checking out the precision score\n",
    "metrics.precision_score(y_test, y_pred) "
   ]
  },
  {
   "cell_type": "code",
   "execution_count": 54,
   "id": "c2f7de80",
   "metadata": {},
   "outputs": [
    {
     "data": {
      "text/plain": [
       "0.6875"
      ]
     },
     "execution_count": 54,
     "metadata": {},
     "output_type": "execute_result"
    }
   ],
   "source": [
    "#checking out the recall\n",
    "metrics.recall_score(y_test, y_pred) "
   ]
  },
  {
   "cell_type": "code",
   "execution_count": 55,
   "id": "2e235b0d",
   "metadata": {},
   "outputs": [
    {
     "data": {
      "text/plain": [
       "0.7638888888888888"
      ]
     },
     "execution_count": 55,
     "metadata": {},
     "output_type": "execute_result"
    }
   ],
   "source": [
    "#checking out f1\n",
    "metrics.f1_score(y_test, y_pred) "
   ]
  },
  {
   "cell_type": "code",
   "execution_count": 56,
   "id": "e4cf1183",
   "metadata": {},
   "outputs": [
    {
     "data": {
      "text/plain": [
       "<sklearn.metrics._plot.confusion_matrix.ConfusionMatrixDisplay at 0x11faad910>"
      ]
     },
     "execution_count": 56,
     "metadata": {},
     "output_type": "execute_result"
    },
    {
     "data": {
      "image/png": "[encoded data removed]",
      "text/plain": [
       "<Figure size 432x288 with 2 Axes>"
      ]
     },
     "metadata": {},
     "output_type": "display_data"
    }
   ],
   "source": [
    "#Applying a confusion matrix \n",
    "metrics.confusion_matrix(y_test, y_pred)\n",
    "metrics.plot_confusion_matrix(m, X_test_m2, y_test, cmap='Blues')"
   ]
  },
  {
   "cell_type": "code",
   "execution_count": 57,
   "id": "1dc73146",
   "metadata": {
    "scrolled": false
   },
   "outputs": [
    {
     "data": {
      "text/plain": [
       "<sklearn.metrics._plot.roc_curve.RocCurveDisplay at 0x1200cf0d0>"
      ]
     },
     "execution_count": 57,
     "metadata": {},
     "output_type": "execute_result"
    },
    {
     "data": {
      "image/png": "[encoded data removed]",
      "text/plain": [
       "<Figure size 432x288 with 1 Axes>"
      ]
     },
     "metadata": {},
     "output_type": "display_data"
    }
   ],
   "source": [
    "#Checking out the ROC / AUC \n",
    "metrics.plot_roc_curve(m, X_test_m2, y_test)"
   ]
  },
  {
   "cell_type": "markdown",
   "id": "9fc20ee2",
   "metadata": {},
   "source": [
    "***"
   ]
  },
  {
   "cell_type": "markdown",
   "id": "2ca0e4a5",
   "metadata": {},
   "source": [
    "### <font color='blue'>MODEL III: Demograpic features + socioeconomic features + social features<font>"
   ]
  },
  {
   "cell_type": "markdown",
   "id": "f4e9f7fc",
   "metadata": {},
   "source": [
    "*Feature Engineering: Transforming the numerical and categorical columns*"
   ]
  },
  {
   "cell_type": "code",
   "execution_count": 58,
   "id": "98e14d87",
   "metadata": {},
   "outputs": [],
   "source": [
    "#Slicing out the demographic features only\n",
    "X_train_m3 = X_train[['Sex','Age','Pclass','Fare','SibSp','Parch']]\n",
    "X_test_m3 = X_test[['Sex','Age','Pclass','Fare','SibSp','Parch']]"
   ]
  },
  {
   "cell_type": "code",
   "execution_count": 59,
   "id": "69928d1f",
   "metadata": {},
   "outputs": [],
   "source": [
    "#Seperating the numerical and categorical columns \n",
    "categorical_columns = ['Sex', 'Pclass','SibSp', 'Parch']\n",
    "numerical_columns = ['Age', 'Fare']"
   ]
  },
  {
   "cell_type": "code",
   "execution_count": 60,
   "id": "36f28454",
   "metadata": {},
   "outputs": [],
   "source": [
    "#Defining the transformer and its parameters\n",
    "column_transformer = ColumnTransformer([\n",
    "    ('cat_encoder', OneHotEncoder(sparse=False, handle_unknown='ignore'), categorical_columns),\n",
    "    ('num_scaler', MinMaxScaler(), numerical_columns)\n",
    "])"
   ]
  },
  {
   "cell_type": "code",
   "execution_count": 61,
   "id": "67d559ed",
   "metadata": {
    "scrolled": true
   },
   "outputs": [
    {
     "data": {
      "text/plain": [
       "ColumnTransformer(transformers=[('cat_encoder',\n",
       "                                 OneHotEncoder(handle_unknown='ignore',\n",
       "                                               sparse=False),\n",
       "                                 ['Sex', 'Pclass', 'SibSp', 'Parch']),\n",
       "                                ('num_scaler', MinMaxScaler(),\n",
       "                                 ['Age', 'Fare'])])"
      ]
     },
     "execution_count": 61,
     "metadata": {},
     "output_type": "execute_result"
    }
   ],
   "source": [
    "#Fitting the columns to the transforming method\n",
    "column_transformer.fit(X_train_m3) # DO NOT FIT ON TEST DATA"
   ]
  },
  {
   "cell_type": "code",
   "execution_count": 62,
   "id": "81767c56",
   "metadata": {
    "scrolled": true
   },
   "outputs": [],
   "source": [
    "#Transforming the columns\n",
    "X_train_m3 = column_transformer.transform(X_train_m3)\n",
    "X_test_m3 = column_transformer.transform(X_test_m3) "
   ]
  },
  {
   "cell_type": "markdown",
   "id": "80558705",
   "metadata": {},
   "source": [
    "***"
   ]
  },
  {
   "cell_type": "markdown",
   "id": "c27ccce7",
   "metadata": {},
   "source": [
    "*Applying a logistic regression model*"
   ]
  },
  {
   "cell_type": "code",
   "execution_count": 63,
   "id": "760546a4",
   "metadata": {},
   "outputs": [],
   "source": [
    "#applying a logistic regression model \n",
    "m = LogisticRegression()"
   ]
  },
  {
   "cell_type": "code",
   "execution_count": 64,
   "id": "2c49006f",
   "metadata": {
    "scrolled": true
   },
   "outputs": [
    {
     "data": {
      "text/plain": [
       "LogisticRegression()"
      ]
     },
     "execution_count": 64,
     "metadata": {},
     "output_type": "execute_result"
    }
   ],
   "source": [
    "#train the model \n",
    "m.fit(X_train_m3, y_train)"
   ]
  },
  {
   "cell_type": "code",
   "execution_count": 65,
   "id": "8a66f5f0",
   "metadata": {
    "scrolled": false
   },
   "outputs": [
    {
     "data": {
      "text/plain": [
       "0.8132022471910112"
      ]
     },
     "execution_count": 65,
     "metadata": {},
     "output_type": "execute_result"
    }
   ],
   "source": [
    "#Calculating the score for the train data set\n",
    "m.score(X_train_m3, y_train)"
   ]
  },
  {
   "cell_type": "code",
   "execution_count": 66,
   "id": "e2ac407e",
   "metadata": {},
   "outputs": [
    {
     "data": {
      "text/plain": [
       "0.7932960893854749"
      ]
     },
     "execution_count": 66,
     "metadata": {},
     "output_type": "execute_result"
    }
   ],
   "source": [
    "#Calculating the score for the test data set\n",
    "m.score(X_test_m3, y_test)"
   ]
  },
  {
   "cell_type": "code",
   "execution_count": 67,
   "id": "0aa24903",
   "metadata": {},
   "outputs": [],
   "source": [
    "#Predicting \n",
    "y_pred = m.predict(X_test_m3)"
   ]
  },
  {
   "cell_type": "markdown",
   "id": "88dde581",
   "metadata": {},
   "source": [
    "***"
   ]
  },
  {
   "cell_type": "markdown",
   "id": "77c0298e",
   "metadata": {},
   "source": [
    "*Checking out the metrics*"
   ]
  },
  {
   "cell_type": "code",
   "execution_count": 68,
   "id": "87dd372e",
   "metadata": {},
   "outputs": [
    {
     "data": {
      "text/plain": [
       "0.7932960893854749"
      ]
     },
     "execution_count": 68,
     "metadata": {},
     "output_type": "execute_result"
    }
   ],
   "source": [
    "#checking out the accuracy score\n",
    "metrics.accuracy_score(y_test, y_pred)  "
   ]
  },
  {
   "cell_type": "code",
   "execution_count": 69,
   "id": "41adcdaf",
   "metadata": {},
   "outputs": [
    {
     "data": {
      "text/plain": [
       "0.8307692307692308"
      ]
     },
     "execution_count": 69,
     "metadata": {},
     "output_type": "execute_result"
    }
   ],
   "source": [
    "#checking out the precision score\n",
    "metrics.precision_score(y_test, y_pred) "
   ]
  },
  {
   "cell_type": "code",
   "execution_count": 70,
   "id": "4b57d176",
   "metadata": {},
   "outputs": [
    {
     "data": {
      "text/plain": [
       "0.675"
      ]
     },
     "execution_count": 70,
     "metadata": {},
     "output_type": "execute_result"
    }
   ],
   "source": [
    "#checking out the recall\n",
    "metrics.recall_score(y_test, y_pred) "
   ]
  },
  {
   "cell_type": "code",
   "execution_count": 71,
   "id": "400c1d2b",
   "metadata": {},
   "outputs": [
    {
     "data": {
      "text/plain": [
       "0.7448275862068966"
      ]
     },
     "execution_count": 71,
     "metadata": {},
     "output_type": "execute_result"
    }
   ],
   "source": [
    "#checking out f1\n",
    "metrics.f1_score(y_test, y_pred) "
   ]
  },
  {
   "cell_type": "code",
   "execution_count": 72,
   "id": "72c594ea",
   "metadata": {},
   "outputs": [
    {
     "data": {
      "text/plain": [
       "<sklearn.metrics._plot.confusion_matrix.ConfusionMatrixDisplay at 0x11faf0190>"
      ]
     },
     "execution_count": 72,
     "metadata": {},
     "output_type": "execute_result"
    },
    {
     "data": {
      "image/png": "[encoded data removed]",
      "text/plain": [
       "<Figure size 432x288 with 2 Axes>"
      ]
     },
     "metadata": {},
     "output_type": "display_data"
    }
   ],
   "source": [
    "#Applying a confusion matrix \n",
    "metrics.confusion_matrix(y_test, y_pred)\n",
    "metrics.plot_confusion_matrix(m, X_test_m3, y_test, cmap='Blues')"
   ]
  },
  {
   "cell_type": "code",
   "execution_count": 73,
   "id": "09013b3f",
   "metadata": {
    "scrolled": true
   },
   "outputs": [
    {
     "data": {
      "text/plain": [
       "<sklearn.metrics._plot.roc_curve.RocCurveDisplay at 0x1203baee0>"
      ]
     },
     "execution_count": 73,
     "metadata": {},
     "output_type": "execute_result"
    },
    {
     "data": {
      "image/png": "[encoded data removed]",
      "text/plain": [
       "<Figure size 432x288 with 1 Axes>"
      ]
     },
     "metadata": {},
     "output_type": "display_data"
    }
   ],
   "source": [
    "#Checking out the ROC / AUC \n",
    "metrics.plot_roc_curve(m, X_test_m3, y_test)"
   ]
  },
  {
   "cell_type": "markdown",
   "id": "5e52821c",
   "metadata": {},
   "source": [
    "***"
   ]
  },
  {
   "cell_type": "markdown",
   "id": "c63b3aff",
   "metadata": {},
   "source": [
    "## <font color='blue'>SUMMARY /// LOGISTIC REGRESSION MACHINE LEARNING MODELS\n",
    "The following features were included in the machine learning model, starting from the most generalizable features to the more Titanic specific ones (keyword: overfitting)<br><br> <font color='blue'>1th Model:</font> Demographic features: \"Age\" and \"Sex\" (m_test_score = 0,78 ; AUC = 0,80) <br><font color='blue'>2nd Model:</font> Adding socioeconomic features on top: \"Fare\" and \"Passenger`s class\" (m_test_score = 0,81 ; AUC = 0,86) <br><font color='blue'>3rd Model:</font> Adding social features on top: \"Number of siblings/spouses aboard\" and \"Number of parents/children aboard\" (m_test_score = 0,79 ; AUC = 0,87)<br><br><font color='blue'></font><br>The third model yielded the best results best on AUC and has almost the same m_test_score! </font>"
   ]
  },
  {
   "cell_type": "markdown",
   "id": "0b3395b7",
   "metadata": {},
   "source": [
    "***"
   ]
  },
  {
   "cell_type": "markdown",
   "id": "ea935a56",
   "metadata": {},
   "source": [
    "## <font color='blue'>JUST FOR FUN /// CHECKING OUT DIFFERENT MACHINE LEARNING MODELS <font color>"
   ]
  },
  {
   "cell_type": "markdown",
   "id": "51263e68",
   "metadata": {},
   "source": [
    "*Feature Engineering: Transforming the numerical and categorical columns*"
   ]
  },
  {
   "cell_type": "code",
   "execution_count": 78,
   "id": "15254799",
   "metadata": {},
   "outputs": [],
   "source": [
    "#Slicing out the demographic features only\n",
    "X_train = X_train[['Sex','Age','Pclass','Fare','SibSp','Parch']]\n",
    "X_test = X_test[['Sex','Age','Pclass','Fare','SibSp','Parch']]"
   ]
  },
  {
   "cell_type": "code",
   "execution_count": 79,
   "id": "8dba1186",
   "metadata": {},
   "outputs": [],
   "source": [
    "#Seperating the numerical and categorical columns \n",
    "categorical_columns = ['Sex', 'Pclass','SibSp', 'Parch']\n",
    "numerical_columns = ['Age', 'Fare']"
   ]
  },
  {
   "cell_type": "code",
   "execution_count": 80,
   "id": "c852cc5d",
   "metadata": {},
   "outputs": [],
   "source": [
    "#Defining the transformer and its parameters\n",
    "column_transformer = ColumnTransformer([\n",
    "    ('cat_encoder', OneHotEncoder(sparse=False, handle_unknown='ignore'), categorical_columns),\n",
    "    ('num_scaler', MinMaxScaler(), numerical_columns)\n",
    "])"
   ]
  },
  {
   "cell_type": "code",
   "execution_count": 81,
   "id": "43fa0595",
   "metadata": {
    "scrolled": true
   },
   "outputs": [
    {
     "data": {
      "text/plain": [
       "ColumnTransformer(transformers=[('cat_encoder',\n",
       "                                 OneHotEncoder(handle_unknown='ignore',\n",
       "                                               sparse=False),\n",
       "                                 ['Sex', 'Pclass', 'SibSp', 'Parch']),\n",
       "                                ('num_scaler', MinMaxScaler(),\n",
       "                                 ['Age', 'Fare'])])"
      ]
     },
     "execution_count": 81,
     "metadata": {},
     "output_type": "execute_result"
    }
   ],
   "source": [
    "#Fitting the columns to the transforming method\n",
    "column_transformer.fit(X_train) # DO NOT FIT ON TEST DATA"
   ]
  },
  {
   "cell_type": "code",
   "execution_count": 83,
   "id": "3623955f",
   "metadata": {
    "scrolled": true
   },
   "outputs": [],
   "source": [
    "#Transforming the columns\n",
    "X_train = column_transformer.transform(X_train)\n",
    "X_test = column_transformer.transform(X_test) "
   ]
  },
  {
   "cell_type": "markdown",
   "id": "c9e32120",
   "metadata": {},
   "source": [
    "***"
   ]
  },
  {
   "cell_type": "markdown",
   "id": "bfd11cf6",
   "metadata": {},
   "source": [
    "*Stochastic Gradient Descent (SGD)*"
   ]
  },
  {
   "cell_type": "code",
   "execution_count": 155,
   "id": "15f034b9",
   "metadata": {},
   "outputs": [],
   "source": [
    "#Applying the model\n",
    "sgd = linear_model.SGDClassifier(max_iter=5, tol=None)\n",
    "sgd.fit(X_train, y_train)\n",
    "\n",
    "sgd.score(X_train, y_train)\n",
    "sgd.score(X_test, y_test)\n",
    "\n",
    "Y_pred = sgd.predict(X_test)"
   ]
  },
  {
   "cell_type": "code",
   "execution_count": 156,
   "id": "64ffa540",
   "metadata": {},
   "outputs": [
    {
     "name": "stdout",
     "output_type": "stream",
     "text": [
      "0.7932960893854749\n"
     ]
    }
   ],
   "source": [
    "#Checking out the sgd test score\n",
    "sgd_score_test = sgd.score(X_test, y_test)\n",
    "print(sgd_score_test)"
   ]
  },
  {
   "cell_type": "code",
   "execution_count": 152,
   "id": "f548860a",
   "metadata": {},
   "outputs": [
    {
     "data": {
      "text/plain": [
       "<sklearn.metrics._plot.roc_curve.RocCurveDisplay at 0x1226b86d0>"
      ]
     },
     "execution_count": 152,
     "metadata": {},
     "output_type": "execute_result"
    },
    {
     "data": {
      "image/png": "[encoded data removed]",
      "text/plain": [
       "<Figure size 432x288 with 1 Axes>"
      ]
     },
     "metadata": {},
     "output_type": "display_data"
    }
   ],
   "source": [
    "#Checking out the roc curve\n",
    "metrics.plot_roc_curve(sgd, X_test, y_test)"
   ]
  },
  {
   "cell_type": "markdown",
   "id": "ccc1bc99",
   "metadata": {},
   "source": [
    "***"
   ]
  },
  {
   "cell_type": "markdown",
   "id": "97d48866",
   "metadata": {},
   "source": [
    "*Random Forest*"
   ]
  },
  {
   "cell_type": "code",
   "execution_count": 158,
   "id": "dac89fa6",
   "metadata": {},
   "outputs": [],
   "source": [
    "#Applying the model\n",
    "random_forest = RandomForestClassifier(n_estimators=100)\n",
    "random_forest.fit(X_train, y_train)\n",
    "\n",
    "random_forest.score(X_train, y_train)\n",
    "random_forest.score(X_test, y_test)\n",
    "\n",
    "y_pred = random_forest.predict(X_test)"
   ]
  },
  {
   "cell_type": "code",
   "execution_count": 159,
   "id": "c054b7e8",
   "metadata": {},
   "outputs": [
    {
     "name": "stdout",
     "output_type": "stream",
     "text": [
      "0.8044692737430168\n"
     ]
    }
   ],
   "source": [
    "#Checking out the random forest test score\n",
    "random_forest_score_test = random_forest.score(X_test, y_test)\n",
    "print(random_forest_score_test)"
   ]
  },
  {
   "cell_type": "code",
   "execution_count": 160,
   "id": "7082d8da",
   "metadata": {},
   "outputs": [
    {
     "data": {
      "text/plain": [
       "<sklearn.metrics._plot.roc_curve.RocCurveDisplay at 0x122841fd0>"
      ]
     },
     "execution_count": 160,
     "metadata": {},
     "output_type": "execute_result"
    },
    {
     "data": {
      "image/png": "[encoded data removed]",
      "text/plain": [
       "<Figure size 432x288 with 1 Axes>"
      ]
     },
     "metadata": {},
     "output_type": "display_data"
    }
   ],
   "source": [
    "#Checking out the roc curve\n",
    "metrics.plot_roc_curve(random_forest, X_test, y_test)"
   ]
  },
  {
   "cell_type": "markdown",
   "id": "43139f05",
   "metadata": {},
   "source": [
    "***"
   ]
  },
  {
   "cell_type": "markdown",
   "id": "bb2397f0",
   "metadata": {},
   "source": [
    "*Logistic Regression*"
   ]
  },
  {
   "cell_type": "code",
   "execution_count": 154,
   "id": "23679bea",
   "metadata": {},
   "outputs": [
    {
     "name": "stdout",
     "output_type": "stream",
     "text": [
      "0.7932960893854749\n"
     ]
    }
   ],
   "source": [
    "#Applying the model\n",
    "logreg = LogisticRegression()\n",
    "logreg.fit(X_train, y_train)\n",
    "\n",
    "m.score(X_train, y_train)\n",
    "m.score(X_test, y_test)\n",
    "\n",
    "y_pred = m.predict(X_test)"
   ]
  },
  {
   "cell_type": "code",
   "execution_count": 189,
   "id": "55f8c48e",
   "metadata": {},
   "outputs": [
    {
     "name": "stdout",
     "output_type": "stream",
     "text": [
      "0.7932960893854749\n"
     ]
    }
   ],
   "source": [
    "#Checking out the logistic regression test score\n",
    "logreg_score_test = logreg.score(X_test, y_test)\n",
    "print(logreg_score_test)"
   ]
  },
  {
   "cell_type": "code",
   "execution_count": 162,
   "id": "9aaf2751",
   "metadata": {},
   "outputs": [
    {
     "data": {
      "text/plain": [
       "<sklearn.metrics._plot.roc_curve.RocCurveDisplay at 0x122a295b0>"
      ]
     },
     "execution_count": 162,
     "metadata": {},
     "output_type": "execute_result"
    },
    {
     "data": {
      "image/png": "[encoded data removed]",
      "text/plain": [
       "<Figure size 432x288 with 1 Axes>"
      ]
     },
     "metadata": {},
     "output_type": "display_data"
    }
   ],
   "source": [
    "#Checking out the roc curve\n",
    "metrics.plot_roc_curve(logreg, X_test, y_test)"
   ]
  },
  {
   "cell_type": "markdown",
   "id": "b351962a",
   "metadata": {},
   "source": [
    "***"
   ]
  },
  {
   "cell_type": "markdown",
   "id": "ea3be792",
   "metadata": {},
   "source": [
    "*KNN nearest neigbors*"
   ]
  },
  {
   "cell_type": "code",
   "execution_count": 163,
   "id": "b9b0eace",
   "metadata": {},
   "outputs": [],
   "source": [
    "#Applying the model\n",
    "knn = KNeighborsClassifier(n_neighbors = 3) \n",
    "knn.fit(X_train, y_train)\n",
    "\n",
    "knn.score(X_train, y_train)\n",
    "knn.score(X_test, y_test)\n",
    "\n",
    "y_pred = knn.predict(X_test)  "
   ]
  },
  {
   "cell_type": "code",
   "execution_count": 169,
   "id": "2a847aae",
   "metadata": {},
   "outputs": [
    {
     "name": "stdout",
     "output_type": "stream",
     "text": [
      "0.8324022346368715\n"
     ]
    }
   ],
   "source": [
    "#Checking out the KNN nearest neigbors test score\n",
    "knn_score_test = knn.score(X_test, y_test)\n",
    "print(knn_score_test)"
   ]
  },
  {
   "cell_type": "code",
   "execution_count": 168,
   "id": "45bc5839",
   "metadata": {
    "scrolled": true
   },
   "outputs": [
    {
     "data": {
      "text/plain": [
       "<sklearn.metrics._plot.roc_curve.RocCurveDisplay at 0x122950490>"
      ]
     },
     "execution_count": 168,
     "metadata": {},
     "output_type": "execute_result"
    },
    {
     "data": {
      "image/png": "[encoded data removed]",
      "text/plain": [
       "<Figure size 432x288 with 1 Axes>"
      ]
     },
     "metadata": {},
     "output_type": "display_data"
    }
   ],
   "source": [
    "#Checking out the roc curve\n",
    "metrics.plot_roc_curve(knn, X_test, y_test)"
   ]
  },
  {
   "cell_type": "markdown",
   "id": "4cf46b88",
   "metadata": {},
   "source": [
    "***"
   ]
  },
  {
   "cell_type": "markdown",
   "id": "703b3e33",
   "metadata": {},
   "source": [
    "*Gaussian Naive Bayes*"
   ]
  },
  {
   "cell_type": "code",
   "execution_count": 210,
   "id": "971c5939",
   "metadata": {},
   "outputs": [],
   "source": [
    "#Gaussian Naive Bayes:\n",
    "gaussian = GaussianNB() \n",
    "gaussian.fit(X_train, y_train)  \n",
    "\n",
    "gaussian.score(X_train, y_train)\n",
    "gaussian.score(X_test, y_test)\n",
    "\n",
    "y_pred = gaussian.predict(X_test)  \n",
    "\n",
    "###\n",
    "\n",
    "y_pred = gaussian.score(X_test, y_test)"
   ]
  },
  {
   "cell_type": "code",
   "execution_count": 211,
   "id": "81b22784",
   "metadata": {},
   "outputs": [
    {
     "name": "stdout",
     "output_type": "stream",
     "text": [
      "0.4692737430167598\n"
     ]
    }
   ],
   "source": [
    "#Checking out the Linear Gaussian Naive Bayestest score\n",
    "gaussian_score_test = gaussian.score(X_test, y_test)\n",
    "print(gaussian_score_test)"
   ]
  },
  {
   "cell_type": "code",
   "execution_count": 172,
   "id": "8aad2a36",
   "metadata": {},
   "outputs": [
    {
     "data": {
      "text/plain": [
       "<sklearn.metrics._plot.roc_curve.RocCurveDisplay at 0x11fafdf70>"
      ]
     },
     "execution_count": 172,
     "metadata": {},
     "output_type": "execute_result"
    },
    {
     "data": {
      "image/png": "[encoded data removed]",
      "text/plain": [
       "<Figure size 432x288 with 1 Axes>"
      ]
     },
     "metadata": {},
     "output_type": "display_data"
    }
   ],
   "source": [
    "#Checking out the roc curve\n",
    "metrics.plot_roc_curve(gaussian, X_test, y_test)"
   ]
  },
  {
   "cell_type": "markdown",
   "id": "20f18a61",
   "metadata": {},
   "source": [
    "***"
   ]
  },
  {
   "cell_type": "markdown",
   "id": "26d20eef",
   "metadata": {},
   "source": [
    "*Linear Support Vector Machine*"
   ]
  },
  {
   "cell_type": "code",
   "execution_count": 175,
   "id": "57ba3fde",
   "metadata": {},
   "outputs": [],
   "source": [
    "#Applying the model\n",
    "linear_svc = LinearSVC()\n",
    "linear_svc.fit(X_train, y_train)\n",
    "\n",
    "linear_svc.score(X_train, y_train)\n",
    "linear_svc.score(X_test, y_test)\n",
    "\n",
    "y_pred = linear_svc.predict(X_test)  "
   ]
  },
  {
   "cell_type": "code",
   "execution_count": 176,
   "id": "b4da0ff8",
   "metadata": {},
   "outputs": [
    {
     "name": "stdout",
     "output_type": "stream",
     "text": [
      "0.7988826815642458\n"
     ]
    }
   ],
   "source": [
    "#Checking out the Linear Support Vector Machine test score\n",
    "linear_svc_score_test = linear_svc.score(X_test, y_test)\n",
    "print(linear_svc_score_test)"
   ]
  },
  {
   "cell_type": "code",
   "execution_count": 177,
   "id": "eb1d21cb",
   "metadata": {},
   "outputs": [
    {
     "data": {
      "text/plain": [
       "<sklearn.metrics._plot.roc_curve.RocCurveDisplay at 0x122dd4ee0>"
      ]
     },
     "execution_count": 177,
     "metadata": {},
     "output_type": "execute_result"
    },
    {
     "data": {
      "image/png": "[encoded data removed]",
      "text/plain": [
       "<Figure size 432x288 with 1 Axes>"
      ]
     },
     "metadata": {},
     "output_type": "display_data"
    }
   ],
   "source": [
    "#Checking out the roc curve\n",
    "metrics.plot_roc_curve(linear_svc, X_test, y_test)"
   ]
  },
  {
   "cell_type": "markdown",
   "id": "9f457bb8",
   "metadata": {},
   "source": [
    "***"
   ]
  },
  {
   "cell_type": "markdown",
   "id": "46e5af30",
   "metadata": {},
   "source": [
    "*Decision Tree*"
   ]
  },
  {
   "cell_type": "code",
   "execution_count": 192,
   "id": "cac1f023",
   "metadata": {},
   "outputs": [],
   "source": [
    "#Applying the model\n",
    "decision_tree = DecisionTreeClassifier() \n",
    "decision_tree.fit(X_train, y_train)  \n",
    "\n",
    "decision_tree.score(X_train, y_train)\n",
    "decision_tree.score(X_test, y_test)\n",
    "\n",
    "y_pred = decision_tree.predict(X_test)  "
   ]
  },
  {
   "cell_type": "code",
   "execution_count": 193,
   "id": "8c11b588",
   "metadata": {
    "scrolled": true
   },
   "outputs": [
    {
     "name": "stdout",
     "output_type": "stream",
     "text": [
      "0.7877094972067039\n"
     ]
    }
   ],
   "source": [
    "#Checking out the Decision Tree test score\n",
    "decision_tree_score_test = decision_tree.score(X_test, y_test)\n",
    "print(decision_tree_score_test)"
   ]
  },
  {
   "cell_type": "code",
   "execution_count": 194,
   "id": "673766dc",
   "metadata": {},
   "outputs": [
    {
     "data": {
      "text/plain": [
       "<sklearn.metrics._plot.roc_curve.RocCurveDisplay at 0x122fe2be0>"
      ]
     },
     "execution_count": 194,
     "metadata": {},
     "output_type": "execute_result"
    },
    {
     "data": {
      "image/png": "[encoded data removed]",
      "text/plain": [
       "<Figure size 432x288 with 1 Axes>"
      ]
     },
     "metadata": {},
     "output_type": "display_data"
    }
   ],
   "source": [
    "#Checking out the roc curve\n",
    "metrics.plot_roc_curve(decision_tree, X_test, y_test)"
   ]
  },
  {
   "cell_type": "markdown",
   "id": "8d369e9c",
   "metadata": {},
   "source": [
    "***"
   ]
  },
  {
   "cell_type": "markdown",
   "id": "ca51fe20",
   "metadata": {},
   "source": [
    "*Finding the best model*"
   ]
  },
  {
   "cell_type": "code",
   "execution_count": 221,
   "id": "abde50ca",
   "metadata": {},
   "outputs": [
    {
     "data": {
      "text/html": [
       "<div>\n",
       "<style scoped>\n",
       "    .dataframe tbody tr th:only-of-type {\n",
       "        vertical-align: middle;\n",
       "    }\n",
       "\n",
       "    .dataframe tbody tr th {\n",
       "        vertical-align: top;\n",
       "    }\n",
       "\n",
       "    .dataframe thead th {\n",
       "        text-align: right;\n",
       "    }\n",
       "</style>\n",
       "<table border=\"1\" class=\"dataframe\">\n",
       "  <thead>\n",
       "    <tr style=\"text-align: right;\">\n",
       "      <th></th>\n",
       "      <th>AUC</th>\n",
       "      <th>Test Score</th>\n",
       "    </tr>\n",
       "    <tr>\n",
       "      <th>Machine Learning Model</th>\n",
       "      <th></th>\n",
       "      <th></th>\n",
       "    </tr>\n",
       "  </thead>\n",
       "  <tbody>\n",
       "    <tr>\n",
       "      <th>Linear SVM</th>\n",
       "      <td>0.88</td>\n",
       "      <td>0.798883</td>\n",
       "    </tr>\n",
       "    <tr>\n",
       "      <th>Logistic Regression</th>\n",
       "      <td>0.87</td>\n",
       "      <td>0.793296</td>\n",
       "    </tr>\n",
       "    <tr>\n",
       "      <th>Stochastic Gradient Decent</th>\n",
       "      <td>0.86</td>\n",
       "      <td>0.793296</td>\n",
       "    </tr>\n",
       "    <tr>\n",
       "      <th>KNN</th>\n",
       "      <td>0.86</td>\n",
       "      <td>0.832402</td>\n",
       "    </tr>\n",
       "    <tr>\n",
       "      <th>Random Forest</th>\n",
       "      <td>0.85</td>\n",
       "      <td>0.804469</td>\n",
       "    </tr>\n",
       "    <tr>\n",
       "      <th>Naive Bayes</th>\n",
       "      <td>0.83</td>\n",
       "      <td>0.469274</td>\n",
       "    </tr>\n",
       "    <tr>\n",
       "      <th>Decision Tree</th>\n",
       "      <td>0.78</td>\n",
       "      <td>0.787709</td>\n",
       "    </tr>\n",
       "  </tbody>\n",
       "</table>\n",
       "</div>"
      ],
      "text/plain": [
       "                             AUC   Test Score\n",
       "Machine Learning Model                       \n",
       "Linear SVM                  0.88     0.798883\n",
       "Logistic Regression         0.87     0.793296\n",
       "Stochastic Gradient Decent  0.86     0.793296\n",
       "KNN                         0.86     0.832402\n",
       "Random Forest               0.85     0.804469\n",
       "Naive Bayes                 0.83     0.469274\n",
       "Decision Tree               0.78     0.787709"
      ]
     },
     "execution_count": 221,
     "metadata": {},
     "output_type": "execute_result"
    }
   ],
   "source": [
    "#Creating a ranking of the various machine learning models, sorted by AUC\n",
    "results = pd.DataFrame({'Machine Learning Model': ['Stochastic Gradient Decent', 'Random Forest', 'Logistic Regression', 'KNN', 'Naive Bayes', 'Linear SVM', 'Decision Tree'],'AUC': [0.86, 0.85, 0.87, 0.86, 0.83, 0.88, 0.78],' Test Score': [sgd_score_test, random_forest_test_score, logreg_test_score, knn_score_test, gaussian_score_test, linear_svc_score_test, decision_tree_score_test]})\n",
    "result_df = results.sort_values(by='AUC', ascending=False)\n",
    "result_df = result_df.set_index('Machine Learning Model')\n",
    "result_df.head(9)"
   ]
  },
  {
   "cell_type": "code",
   "execution_count": 223,
   "id": "d8526c80",
   "metadata": {},
   "outputs": [
    {
     "data": {
      "text/html": [
       "<div>\n",
       "<style scoped>\n",
       "    .dataframe tbody tr th:only-of-type {\n",
       "        vertical-align: middle;\n",
       "    }\n",
       "\n",
       "    .dataframe tbody tr th {\n",
       "        vertical-align: top;\n",
       "    }\n",
       "\n",
       "    .dataframe thead th {\n",
       "        text-align: right;\n",
       "    }\n",
       "</style>\n",
       "<table border=\"1\" class=\"dataframe\">\n",
       "  <thead>\n",
       "    <tr style=\"text-align: right;\">\n",
       "      <th></th>\n",
       "      <th>AUC</th>\n",
       "      <th>Test Score</th>\n",
       "    </tr>\n",
       "    <tr>\n",
       "      <th>Machine Learning Model</th>\n",
       "      <th></th>\n",
       "      <th></th>\n",
       "    </tr>\n",
       "  </thead>\n",
       "  <tbody>\n",
       "    <tr>\n",
       "      <th>KNN</th>\n",
       "      <td>0.86</td>\n",
       "      <td>0.832402</td>\n",
       "    </tr>\n",
       "    <tr>\n",
       "      <th>Random Forest</th>\n",
       "      <td>0.85</td>\n",
       "      <td>0.804469</td>\n",
       "    </tr>\n",
       "    <tr>\n",
       "      <th>Linear SVM</th>\n",
       "      <td>0.88</td>\n",
       "      <td>0.798883</td>\n",
       "    </tr>\n",
       "    <tr>\n",
       "      <th>Stochastic Gradient Decent</th>\n",
       "      <td>0.86</td>\n",
       "      <td>0.793296</td>\n",
       "    </tr>\n",
       "    <tr>\n",
       "      <th>Logistic Regression</th>\n",
       "      <td>0.87</td>\n",
       "      <td>0.793296</td>\n",
       "    </tr>\n",
       "    <tr>\n",
       "      <th>Decision Tree</th>\n",
       "      <td>0.78</td>\n",
       "      <td>0.787709</td>\n",
       "    </tr>\n",
       "    <tr>\n",
       "      <th>Naive Bayes</th>\n",
       "      <td>0.83</td>\n",
       "      <td>0.469274</td>\n",
       "    </tr>\n",
       "  </tbody>\n",
       "</table>\n",
       "</div>"
      ],
      "text/plain": [
       "                             AUC  Test Score\n",
       "Machine Learning Model                      \n",
       "KNN                         0.86    0.832402\n",
       "Random Forest               0.85    0.804469\n",
       "Linear SVM                  0.88    0.798883\n",
       "Stochastic Gradient Decent  0.86    0.793296\n",
       "Logistic Regression         0.87    0.793296\n",
       "Decision Tree               0.78    0.787709\n",
       "Naive Bayes                 0.83    0.469274"
      ]
     },
     "execution_count": 223,
     "metadata": {},
     "output_type": "execute_result"
    }
   ],
   "source": [
    "#Creating a ranking of the various machine learning models, sorted by Test Score\n",
    "results = pd.DataFrame({'Machine Learning Model': ['Stochastic Gradient Decent', 'Random Forest', 'Logistic Regression', 'KNN', 'Naive Bayes', 'Linear SVM', 'Decision Tree'],'AUC': [0.86, 0.85, 0.87, 0.86, 0.83, 0.88, 0.78], 'Test Score': [sgd_score_test, random_forest_test_score, logreg_test_score, knn_score_test, gaussian_score_test, linear_svc_score_test, decision_tree_score_test]})\n",
    "result_df = results.sort_values(by='Test Score', ascending=False)\n",
    "result_df = result_df.set_index('Machine Learning Model')\n",
    "result_df.head(9)"
   ]
  },
  {
   "cell_type": "markdown",
   "id": "0f2adef5",
   "metadata": {},
   "source": [
    "***"
   ]
  },
  {
   "cell_type": "markdown",
   "id": "2b974e8f",
   "metadata": {},
   "source": [
    "## <font color='blue'>SUMMARY /// APPLYING VARIOUS MACHINE LEARNING MODELS\n",
    "Various machine learning models were conducted (just for fun), all using the same features:<br> Demographic (\"Age\" and \"Sex\"), socioeconomic (\"Fare\" and \"Passengers class\") and social features (\"Number of siblings/spouses aboard\" and \"Number of parents/children aboard\") <br><br> <font color='blue'>Results:</font><br>Interestingly, the ranking of the machine learning models really changes depending on the prefered performance indicator (in this case, AUC or Test Score). The difference is not enourmous, however, still striking. As there are 1) no specified contraints to consider, and 2) personal preferences, I would continue conducting the analysis using logistic regression. "
   ]
  },
  {
   "cell_type": "markdown",
   "id": "78824733",
   "metadata": {},
   "source": [
    "***"
   ]
  }
 ],
 "metadata": {
  "kernelspec": {
   "display_name": "Python 3",
   "language": "python",
   "name": "python3"
  },
  "language_info": {
   "codemirror_mode": {
    "name": "ipython",
    "version": 3
   },
   "file_extension": ".py",
   "mimetype": "text/x-python",
   "name": "python",
   "nbconvert_exporter": "python",
   "pygments_lexer": "ipython3",
   "version": "3.8.8"
  }
 },
 "nbformat": 4,
 "nbformat_minor": 5
}
